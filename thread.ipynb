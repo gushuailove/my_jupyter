{
 "cells": [
  {
   "cell_type": "code",
   "execution_count": 3,
   "metadata": {},
   "outputs": [
    {
     "name": "stdout",
     "output_type": "stream",
     "text": [
      "T1 start\n",
      "all done\n",
      "\n",
      "\n",
      "T1 finish\n",
      "\n"
     ]
    }
   ],
   "source": [
    "import threading\n",
    "import time\n",
    "\n",
    "def thread_job():\n",
    "    print(\"T1 start\\n\")\n",
    "    for i in range(10):\n",
    "        time.sleep(0.1) # 任务间隔0.1s\n",
    "    print(\"T1 finish\\n\")\n",
    "\n",
    "added_thread = threading.Thread(target=thread_job, name='T1')\n",
    "added_thread.start()\n",
    "print(\"all done\\n\")"
   ]
  },
  {
   "cell_type": "code",
   "execution_count": 4,
   "metadata": {},
   "outputs": [
    {
     "name": "stdout",
     "output_type": "stream",
     "text": [
      "T1 start\n",
      "\n",
      "T1 finish\n",
      "\n",
      "all done\n",
      "\n"
     ]
    }
   ],
   "source": [
    "import threading\n",
    "import time\n",
    "\n",
    "def thread_job():\n",
    "    print(\"T1 start\\n\")\n",
    "    for i in range(10):\n",
    "        time.sleep(0.1) # 任务间隔0.1s\n",
    "    print(\"T1 finish\\n\")\n",
    "\n",
    "added_thread = threading.Thread(target=thread_job, name='T1')\n",
    "added_thread.start()\n",
    "added_thread.join()\n",
    "print(\"all done\\n\")"
   ]
  },
  {
   "cell_type": "code",
   "execution_count": 5,
   "metadata": {},
   "outputs": [
    {
     "name": "stdout",
     "output_type": "stream",
     "text": [
      "T1 start\n",
      "\n",
      "T2 start\n",
      "all done\n",
      "\n",
      "\n",
      "T2 finish\n",
      "\n",
      "T1 finish\n",
      "\n"
     ]
    }
   ],
   "source": [
    "def T1_job():\n",
    "    print(\"T1 start\\n\")\n",
    "    for i in range(10):\n",
    "        time.sleep(0.1)\n",
    "    print(\"T1 finish\\n\")\n",
    "\n",
    "def T2_job():\n",
    "    print(\"T2 start\\n\")\n",
    "    print(\"T2 finish\\n\")\n",
    "\n",
    "thread_1 = threading.Thread(target=T1_job, name='T1')\n",
    "thread_2 = threading.Thread(target=T2_job, name='T2')\n",
    "thread_1.start() # 开启T1\n",
    "thread_2.start() # 开启T2\n",
    "print(\"all done\\n\")"
   ]
  },
  {
   "cell_type": "code",
   "execution_count": 6,
   "metadata": {},
   "outputs": [
    {
     "name": "stdout",
     "output_type": "stream",
     "text": [
      "T1 start\n",
      "\n",
      "T1 finish\n",
      "\n",
      "T2 start\n",
      "\n",
      "T2 finish\n",
      "\n",
      "all done\n",
      "\n"
     ]
    }
   ],
   "source": [
    "def T1_job():\n",
    "    print(\"T1 start\\n\")\n",
    "    for i in range(10):\n",
    "        time.sleep(0.1)\n",
    "    print(\"T1 finish\\n\")\n",
    "\n",
    "def T2_job():\n",
    "    print(\"T2 start\\n\")\n",
    "    print(\"T2 finish\\n\")\n",
    "\n",
    "thread_1 = threading.Thread(target=T1_job, name='T1')\n",
    "thread_2 = threading.Thread(target=T2_job, name='T2')\n",
    "thread_1.start() # 开启T1\n",
    "thread_1.join() # notice the difference!\n",
    "thread_2.start() # 开启T2\n",
    "print(\"all done\\n\")"
   ]
  },
  {
   "cell_type": "code",
   "execution_count": 7,
   "metadata": {},
   "outputs": [
    {
     "name": "stdout",
     "output_type": "stream",
     "text": [
      "T1 start\n",
      "T2 start\n",
      "\n",
      "\n",
      "T2 finish\n",
      "\n",
      "T1 finish\n",
      "\n",
      "all done\n",
      "\n"
     ]
    }
   ],
   "source": [
    "def T1_job():\n",
    "    print(\"T1 start\\n\")\n",
    "    for i in range(10):\n",
    "        time.sleep(0.1)\n",
    "    print(\"T1 finish\\n\")\n",
    "\n",
    "def T2_job():\n",
    "    print(\"T2 start\\n\")\n",
    "    print(\"T2 finish\\n\")\n",
    "\n",
    "thread_1 = threading.Thread(target=T1_job, name='T1')\n",
    "thread_2 = threading.Thread(target=T2_job, name='T2')\n",
    "thread_1.start() # 开启T1\n",
    "thread_2.start() # 开启T2\n",
    "thread_2.join() # 开启T2\n",
    "thread_1.join() # notice the difference!\n",
    "print(\"all done\\n\")"
   ]
  },
  {
   "cell_type": "code",
   "execution_count": 9,
   "metadata": {},
   "outputs": [
    {
     "name": "stdout",
     "output_type": "stream",
     "text": [
      "job1 1\n",
      "job1 2\n",
      "job1 3\n",
      "job1 4\n",
      "job1 5\n",
      "job1 6\n",
      "job1 7\n",
      "job1 8\n",
      "job1 9\n",
      "job1 10\n",
      "job2 20\n",
      "job2 30\n",
      "job2 40\n",
      "job2 50\n",
      "job2 60\n",
      "job2 70\n",
      "job2 80\n",
      "job2 90\n",
      "job2 100\n",
      "job2 110\n"
     ]
    }
   ],
   "source": [
    "def job1():\n",
    "    global A,lock\n",
    "    lock.acquire()\n",
    "    for i in range(10):\n",
    "        A+=1\n",
    "        print('job1',A)\n",
    "    lock.release()\n",
    "    \n",
    "def job2():\n",
    "    global A,lock\n",
    "    lock.acquire()\n",
    "    for i in range(10):\n",
    "        A+=10\n",
    "        print('job2',A)\n",
    "    lock.release()\n",
    "    \n",
    "if __name__== '__main__':\n",
    "    lock=threading.Lock()\n",
    "    A=0\n",
    "    t1=threading.Thread(target=job1)\n",
    "    t2=threading.Thread(target=job2)\n",
    "    t1.start()\n",
    "    t2.start()\n",
    "    t1.join()\n",
    "    t2.join()"
   ]
  },
  {
   "cell_type": "code",
   "execution_count": null,
   "metadata": {},
   "outputs": [],
   "source": []
  },
  {
   "cell_type": "code",
   "execution_count": null,
   "metadata": {},
   "outputs": [],
   "source": []
  }
 ],
 "metadata": {
  "kernelspec": {
   "display_name": "Python 3",
   "language": "python",
   "name": "python3"
  },
  "language_info": {
   "codemirror_mode": {
    "name": "ipython",
    "version": 3
   },
   "file_extension": ".py",
   "mimetype": "text/x-python",
   "name": "python",
   "nbconvert_exporter": "python",
   "pygments_lexer": "ipython3",
   "version": "3.6.4"
  }
 },
 "nbformat": 4,
 "nbformat_minor": 2
}
